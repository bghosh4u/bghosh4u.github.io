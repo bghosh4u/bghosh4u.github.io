{
  "nbformat": 4,
  "nbformat_minor": 0,
  "metadata": {
    "colab": {
      "name": "Bappa Mutant_tracking.ipynb",
      "provenance": [],
      "include_colab_link": true
    },
    "kernelspec": {
      "name": "python3",
      "display_name": "Python 3"
    },
    "language_info": {
      "name": "python"
    }
  },
  "cells": [
    {
      "cell_type": "markdown",
      "metadata": {
        "id": "view-in-github",
        "colab_type": "text"
      },
      "source": [
        "<a href=\"https://colab.research.google.com/github/bghosh4u/bghosh4u.github.io/blob/master/Bappa_Mutant_tracking.ipynb\" target=\"_parent\"><img src=\"https://colab.research.google.com/assets/colab-badge.svg\" alt=\"Open In Colab\"/></a>"
      ]
    },
    {
      "cell_type": "code",
      "metadata": {
        "colab": {
          "base_uri": "https://localhost:8080/"
        },
        "id": "_SedcVSAPQPe",
        "outputId": "d6d5f86e-8e06-4454-aee0-0d518f3dc664"
      },
      "source": [
        "# Bappa Ghosh, IISER TVM, India,\n",
        "# Website: https://bghosh4u.github.io/\n",
        "# Start Date: 07th May, 2021\n",
        "# End Date:\n",
        "# Publication: \n",
        "\n",
        "\n",
        "                  ##1 DEFINITION\n",
        "\n",
        "## STAGE1\n",
        "# The COVID is mutating at different locations differently. This program will \n",
        "# analyse the mutations of the virus based on physical locations (continents/\n",
        "# countries) from the publically available data of that particular region. It \n",
        "# will then correlate the infection spreading rates, deaths and recoveries to \n",
        "# give an idea about the fatality of the particular variant/strain/mutation.\n",
        "\n",
        "# Ref1: https://www.sciencedirect.com/topics/immunology-and-microbiology/virus-genome\n",
        "# Ref2: https://coronavirusexplained.ukri.org/en/article/und0001/\n",
        "# Ref3: https://science.sciencemag.org/content/367/6483/1176\n",
        "# Ref4: \n",
        "\n",
        "## STRAGE2\n",
        "# In the second stage, the mutation centers will be correlated with the human\n",
        "# receptor center to give an understaning about the direction of the change\n",
        "# (more fatal or less).\n",
        "\n",
        "                  ##2 ALGORITHM\n",
        "# READ THE DATA OF A SEQUENCE BY WEB SCRAPPING\n",
        "# REGCOGNISE DIFFERENT PARTS OF THE SEQUENCE\n",
        "# READ THE SECOND DATA AT NEXT DATE\n",
        "# COMPARE AND REPORT THE NUMBER OF MUTATIONS, LOCATION IN THE SEGMENT,\n",
        "# PLOT LOCATION OF MUATION VS TIME\n",
        "# PLOT NUMBER OF CHANGE VS TIME\n",
        "# PLOT NUMBER OF DEATH, MUTATION LOCATION VS TIME\n",
        "# PLOT NUMBER OF DEATH, NUMBER OF MUTATION VS TIME\n",
        "# PLOT NUMBER OF CASES, MUTATION LOCATION VS TIME\n",
        " \n",
        "                  ##3 CODE\n",
        "# READ THE DATA OF A SEQUENCE BY WEB SCRAPPING\n",
        "# Source : https://www.gisaid.org/\n",
        "\n",
        "# \n",
        "SEQ1=\"BAPPAGHOSHREMYA\"\n",
        "SEQ2=\"BAPPAGHOSHRAMYA\"\n",
        "\n",
        "\n",
        "print(SEQ1)\n",
        "  # for ourindex in range(len(SEQ1))\n",
        "  # print(SEQ1[ourindex])\n",
        "\n",
        "#PRINT\n",
        "\n",
        "#ENDLOOP\n",
        "\n",
        "\n",
        "\n",
        "                  ##4 DEBUG\n",
        "\n",
        "\n",
        "\n"
      ],
      "execution_count": 1,
      "outputs": [
        {
          "output_type": "stream",
          "text": [
            "BAPPAGHOSHREMYA\n"
          ],
          "name": "stdout"
        }
      ]
    },
    {
      "cell_type": "code",
      "metadata": {
        "id": "GgnFAzwBPfa1"
      },
      "source": [
        ""
      ],
      "execution_count": null,
      "outputs": []
    }
  ]
}